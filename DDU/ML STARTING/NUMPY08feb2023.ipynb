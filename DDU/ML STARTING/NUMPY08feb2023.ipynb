{
 "cells": [
  {
   "cell_type": "markdown",
   "id": "7ec10306",
   "metadata": {},
   "source": [
    "# NUMPY"
   ]
  },
  {
   "cell_type": "code",
   "execution_count": 1,
   "id": "562049b9",
   "metadata": {},
   "outputs": [],
   "source": [
    "## CREATE A DATA SET OF NUMPY\n",
    "##import numpy"
   ]
  },
  {
   "cell_type": "code",
   "execution_count": 2,
   "id": "0d6d17ff",
   "metadata": {},
   "outputs": [],
   "source": [
    "import numpy as np"
   ]
  },
  {
   "cell_type": "markdown",
   "id": "1749f597",
   "metadata": {},
   "source": [
    "## 1D Array"
   ]
  },
  {
   "cell_type": "code",
   "execution_count": 3,
   "id": "433cbf84",
   "metadata": {},
   "outputs": [],
   "source": [
    "d=np.array([2,4,6,8,10,12,14,16,18,20,22,24,26,28,30,32,34,36,38,40])\n"
   ]
  },
  {
   "cell_type": "markdown",
   "id": "bebaa5e5",
   "metadata": {},
   "source": [
    "### Attributes of arrays"
   ]
  },
  {
   "cell_type": "markdown",
   "id": "7516d2ea",
   "metadata": {},
   "source": [
    "#### 1 - dtype\n",
    "#### 2 - ndim\n",
    "#### 3 - size\n",
    "#### 4 - shape"
   ]
  },
  {
   "cell_type": "code",
   "execution_count": 4,
   "id": "420a792c",
   "metadata": {},
   "outputs": [
    {
     "data": {
      "text/plain": [
       "dtype('int32')"
      ]
     },
     "execution_count": 4,
     "metadata": {},
     "output_type": "execute_result"
    }
   ],
   "source": [
    "## dtype - to chek the data type of the array\n",
    "d.dtype"
   ]
  },
  {
   "cell_type": "code",
   "execution_count": 5,
   "id": "d9592fe4",
   "metadata": {},
   "outputs": [
    {
     "data": {
      "text/plain": [
       "1"
      ]
     },
     "execution_count": 5,
     "metadata": {},
     "output_type": "execute_result"
    }
   ],
   "source": [
    "## ndim - the dimension of the array\n",
    "d.ndim"
   ]
  },
  {
   "cell_type": "code",
   "execution_count": 6,
   "id": "cd4aae98",
   "metadata": {},
   "outputs": [
    {
     "data": {
      "text/plain": [
       "20"
      ]
     },
     "execution_count": 6,
     "metadata": {},
     "output_type": "execute_result"
    }
   ],
   "source": [
    "## size - to check the arrays size \n",
    "d.size"
   ]
  },
  {
   "cell_type": "code",
   "execution_count": 7,
   "id": "6caaa44b",
   "metadata": {},
   "outputs": [
    {
     "data": {
      "text/plain": [
       "(20,)"
      ]
     },
     "execution_count": 7,
     "metadata": {},
     "output_type": "execute_result"
    }
   ],
   "source": [
    "## shape - \n",
    "d.shape"
   ]
  },
  {
   "cell_type": "markdown",
   "id": "6e0e3cb2",
   "metadata": {},
   "source": [
    "## index location"
   ]
  },
  {
   "cell_type": "code",
   "execution_count": 8,
   "id": "eecbac5c",
   "metadata": {},
   "outputs": [
    {
     "data": {
      "text/plain": [
       "6"
      ]
     },
     "execution_count": 8,
     "metadata": {},
     "output_type": "execute_result"
    }
   ],
   "source": [
    "d[2]"
   ]
  },
  {
   "cell_type": "code",
   "execution_count": 9,
   "id": "23d6cc5b",
   "metadata": {},
   "outputs": [
    {
     "data": {
      "text/plain": [
       "22"
      ]
     },
     "execution_count": 9,
     "metadata": {},
     "output_type": "execute_result"
    }
   ],
   "source": [
    "d[10]"
   ]
  },
  {
   "cell_type": "code",
   "execution_count": 10,
   "id": "0947d3e3",
   "metadata": {},
   "outputs": [
    {
     "data": {
      "text/plain": [
       "38"
      ]
     },
     "execution_count": 10,
     "metadata": {},
     "output_type": "execute_result"
    }
   ],
   "source": [
    "d[18]"
   ]
  },
  {
   "cell_type": "markdown",
   "id": "225233fc",
   "metadata": {},
   "source": [
    "## Multi dimensional array"
   ]
  },
  {
   "cell_type": "code",
   "execution_count": 11,
   "id": "8818cea5",
   "metadata": {},
   "outputs": [],
   "source": [
    "d_2d=np.array([[2,4,6,8,10,12,14,16,18,20],[22,24,26,28,30,32,34,36,38,40]])"
   ]
  },
  {
   "cell_type": "code",
   "execution_count": 12,
   "id": "0d6578b6",
   "metadata": {},
   "outputs": [
    {
     "data": {
      "text/plain": [
       "array([[ 2,  4,  6,  8, 10, 12, 14, 16, 18, 20],\n",
       "       [22, 24, 26, 28, 30, 32, 34, 36, 38, 40]])"
      ]
     },
     "execution_count": 12,
     "metadata": {},
     "output_type": "execute_result"
    }
   ],
   "source": [
    "d_2d"
   ]
  },
  {
   "cell_type": "code",
   "execution_count": 13,
   "id": "13bc6b84",
   "metadata": {},
   "outputs": [
    {
     "data": {
      "text/plain": [
       "dtype('int32')"
      ]
     },
     "execution_count": 13,
     "metadata": {},
     "output_type": "execute_result"
    }
   ],
   "source": [
    "d_2d.dtype"
   ]
  },
  {
   "cell_type": "code",
   "execution_count": 14,
   "id": "64867c2f",
   "metadata": {},
   "outputs": [
    {
     "data": {
      "text/plain": [
       "2"
      ]
     },
     "execution_count": 14,
     "metadata": {},
     "output_type": "execute_result"
    }
   ],
   "source": [
    "d_2d.ndim"
   ]
  },
  {
   "cell_type": "code",
   "execution_count": 15,
   "id": "dd7c9fa7",
   "metadata": {},
   "outputs": [
    {
     "data": {
      "text/plain": [
       "20"
      ]
     },
     "execution_count": 15,
     "metadata": {},
     "output_type": "execute_result"
    }
   ],
   "source": [
    "d_2d.size"
   ]
  },
  {
   "cell_type": "code",
   "execution_count": 16,
   "id": "2d7ce381",
   "metadata": {},
   "outputs": [
    {
     "data": {
      "text/plain": [
       "(2, 10)"
      ]
     },
     "execution_count": 16,
     "metadata": {},
     "output_type": "execute_result"
    }
   ],
   "source": [
    "d_2d.shape"
   ]
  },
  {
   "cell_type": "code",
   "execution_count": 17,
   "id": "af0e2f14",
   "metadata": {},
   "outputs": [
    {
     "data": {
      "text/plain": [
       "array([ 2,  4,  6,  8, 10, 12, 14, 16, 18, 20])"
      ]
     },
     "execution_count": 17,
     "metadata": {},
     "output_type": "execute_result"
    }
   ],
   "source": [
    "d_2d[0]"
   ]
  },
  {
   "cell_type": "code",
   "execution_count": 18,
   "id": "3446003d",
   "metadata": {},
   "outputs": [
    {
     "data": {
      "text/plain": [
       "array([22, 24, 26, 28, 30, 32, 34, 36, 38, 40])"
      ]
     },
     "execution_count": 18,
     "metadata": {},
     "output_type": "execute_result"
    }
   ],
   "source": [
    "d_2d[1]"
   ]
  },
  {
   "cell_type": "code",
   "execution_count": 19,
   "id": "331c8899",
   "metadata": {},
   "outputs": [
    {
     "data": {
      "text/plain": [
       "8"
      ]
     },
     "execution_count": 19,
     "metadata": {},
     "output_type": "execute_result"
    }
   ],
   "source": [
    "d_2d[0][3]"
   ]
  },
  {
   "cell_type": "code",
   "execution_count": 20,
   "id": "2238fa01",
   "metadata": {},
   "outputs": [
    {
     "data": {
      "text/plain": [
       "28"
      ]
     },
     "execution_count": 20,
     "metadata": {},
     "output_type": "execute_result"
    }
   ],
   "source": [
    "d_2d[1][3]"
   ]
  },
  {
   "cell_type": "markdown",
   "id": "d58f13a3",
   "metadata": {},
   "source": [
    "## Another type of multi dimensional array"
   ]
  },
  {
   "cell_type": "code",
   "execution_count": 21,
   "id": "1c3c513c",
   "metadata": {},
   "outputs": [],
   "source": [
    "array_2=np.array([[[2,4,6,8,10,12,14,16,18,20]]])"
   ]
  },
  {
   "cell_type": "code",
   "execution_count": 22,
   "id": "ef3026a4",
   "metadata": {},
   "outputs": [
    {
     "data": {
      "text/plain": [
       "array([[[ 2,  4,  6,  8, 10, 12, 14, 16, 18, 20]]])"
      ]
     },
     "execution_count": 22,
     "metadata": {},
     "output_type": "execute_result"
    }
   ],
   "source": [
    "array_2"
   ]
  },
  {
   "cell_type": "code",
   "execution_count": 23,
   "id": "c8802072",
   "metadata": {},
   "outputs": [
    {
     "data": {
      "text/plain": [
       "(1, 1, 10)"
      ]
     },
     "execution_count": 23,
     "metadata": {},
     "output_type": "execute_result"
    }
   ],
   "source": [
    "array_2.shape"
   ]
  },
  {
   "cell_type": "markdown",
   "id": "a7f0690e",
   "metadata": {},
   "source": [
    "## First element in first array"
   ]
  },
  {
   "cell_type": "code",
   "execution_count": 24,
   "id": "33610a89",
   "metadata": {},
   "outputs": [
    {
     "data": {
      "text/plain": [
       "2"
      ]
     },
     "execution_count": 24,
     "metadata": {},
     "output_type": "execute_result"
    }
   ],
   "source": [
    "d_2d[0][0]"
   ]
  },
  {
   "cell_type": "markdown",
   "id": "921cba04",
   "metadata": {},
   "source": [
    "## second element in second array"
   ]
  },
  {
   "cell_type": "code",
   "execution_count": 25,
   "id": "6eeb0859",
   "metadata": {},
   "outputs": [
    {
     "data": {
      "text/plain": [
       "24"
      ]
     },
     "execution_count": 25,
     "metadata": {},
     "output_type": "execute_result"
    }
   ],
   "source": [
    "d_2d[1][1]"
   ]
  },
  {
   "cell_type": "markdown",
   "id": "b28482b6",
   "metadata": {},
   "source": [
    "## Lets change its data type into float "
   ]
  },
  {
   "cell_type": "code",
   "execution_count": 26,
   "id": "150c2864",
   "metadata": {},
   "outputs": [],
   "source": [
    "d_2d = np.array([[2,4,6,8,10,12,14,16,18,20],[22,24,26,28,30,32,34,36,38,40]],dtype=float)"
   ]
  },
  {
   "cell_type": "code",
   "execution_count": 27,
   "id": "74f9a70b",
   "metadata": {},
   "outputs": [
    {
     "data": {
      "text/plain": [
       "array([[ 2.,  4.,  6.,  8., 10., 12., 14., 16., 18., 20.],\n",
       "       [22., 24., 26., 28., 30., 32., 34., 36., 38., 40.]])"
      ]
     },
     "execution_count": 27,
     "metadata": {},
     "output_type": "execute_result"
    }
   ],
   "source": [
    "d_2d"
   ]
  },
  {
   "cell_type": "markdown",
   "id": "5cd67cd3",
   "metadata": {},
   "source": [
    "## lets create a bigger array"
   ]
  },
  {
   "cell_type": "code",
   "execution_count": 28,
   "id": "75f31efd",
   "metadata": {},
   "outputs": [
    {
     "data": {
      "text/plain": [
       "array([[1., 1., 1., 1., 1.],\n",
       "       [2., 2., 2., 2., 2.],\n",
       "       [3., 3., 3., 3., 3.],\n",
       "       [4., 4., 4., 4., 4.],\n",
       "       [5., 5., 5., 5., 5.],\n",
       "       [6., 6., 6., 6., 6.],\n",
       "       [6., 6., 6., 6., 6.],\n",
       "       [7., 7., 7., 7., 7.],\n",
       "       [8., 8., 8., 8., 8.]])"
      ]
     },
     "execution_count": 28,
     "metadata": {},
     "output_type": "execute_result"
    }
   ],
   "source": [
    "d_bigger = np.array([\n",
    "    [1,1,1,1,1],[2,2,2,2,2],[3,3,3,3,3],\n",
    "    [4,4,4,4,4],[5,5,5,5,5],[6,6,6,6,6],\n",
    "    [6,6,6,6,6],[7,7,7,7,7],[8,8,8,8,8]\n",
    "],dtype=float)\n",
    "d_bigger"
   ]
  },
  {
   "cell_type": "code",
   "execution_count": 29,
   "id": "dff07591",
   "metadata": {},
   "outputs": [
    {
     "data": {
      "text/plain": [
       "(9, 5)"
      ]
     },
     "execution_count": 29,
     "metadata": {},
     "output_type": "execute_result"
    }
   ],
   "source": [
    "d_bigger.shape"
   ]
  },
  {
   "cell_type": "code",
   "execution_count": 30,
   "id": "02c2a772",
   "metadata": {},
   "outputs": [
    {
     "data": {
      "text/plain": [
       "2.0"
      ]
     },
     "execution_count": 30,
     "metadata": {},
     "output_type": "execute_result"
    }
   ],
   "source": [
    "d_bigger[1][1]"
   ]
  },
  {
   "cell_type": "markdown",
   "id": "4ba1841a",
   "metadata": {},
   "source": [
    "## Filling arrays"
   ]
  },
  {
   "cell_type": "code",
   "execution_count": 31,
   "id": "847b12df",
   "metadata": {},
   "outputs": [],
   "source": [
    "d_bigger=np.full((1,2,3),7)"
   ]
  },
  {
   "cell_type": "code",
   "execution_count": 32,
   "id": "bee7998d",
   "metadata": {},
   "outputs": [
    {
     "data": {
      "text/plain": [
       "array([[[7, 7, 7],\n",
       "        [7, 7, 7]]])"
      ]
     },
     "execution_count": 32,
     "metadata": {},
     "output_type": "execute_result"
    }
   ],
   "source": [
    "d_bigger"
   ]
  },
  {
   "cell_type": "markdown",
   "id": "e22d6944",
   "metadata": {},
   "source": [
    "## zero and ones"
   ]
  },
  {
   "cell_type": "code",
   "execution_count": 33,
   "id": "87c6a735",
   "metadata": {},
   "outputs": [],
   "source": [
    "d_zeros=np.zeros((3,3))"
   ]
  },
  {
   "cell_type": "code",
   "execution_count": 34,
   "id": "8cdc3062",
   "metadata": {},
   "outputs": [
    {
     "data": {
      "text/plain": [
       "array([[0., 0., 0.],\n",
       "       [0., 0., 0.],\n",
       "       [0., 0., 0.]])"
      ]
     },
     "execution_count": 34,
     "metadata": {},
     "output_type": "execute_result"
    }
   ],
   "source": [
    "d_zeros"
   ]
  },
  {
   "cell_type": "code",
   "execution_count": 35,
   "id": "63c8129c",
   "metadata": {},
   "outputs": [],
   "source": [
    "d_ones=np.ones((1,2,3,4,5))"
   ]
  },
  {
   "cell_type": "code",
   "execution_count": 36,
   "id": "4a9b447d",
   "metadata": {},
   "outputs": [
    {
     "data": {
      "text/plain": [
       "array([[[[[1., 1., 1., 1., 1.],\n",
       "          [1., 1., 1., 1., 1.],\n",
       "          [1., 1., 1., 1., 1.],\n",
       "          [1., 1., 1., 1., 1.]],\n",
       "\n",
       "         [[1., 1., 1., 1., 1.],\n",
       "          [1., 1., 1., 1., 1.],\n",
       "          [1., 1., 1., 1., 1.],\n",
       "          [1., 1., 1., 1., 1.]],\n",
       "\n",
       "         [[1., 1., 1., 1., 1.],\n",
       "          [1., 1., 1., 1., 1.],\n",
       "          [1., 1., 1., 1., 1.],\n",
       "          [1., 1., 1., 1., 1.]]],\n",
       "\n",
       "\n",
       "        [[[1., 1., 1., 1., 1.],\n",
       "          [1., 1., 1., 1., 1.],\n",
       "          [1., 1., 1., 1., 1.],\n",
       "          [1., 1., 1., 1., 1.]],\n",
       "\n",
       "         [[1., 1., 1., 1., 1.],\n",
       "          [1., 1., 1., 1., 1.],\n",
       "          [1., 1., 1., 1., 1.],\n",
       "          [1., 1., 1., 1., 1.]],\n",
       "\n",
       "         [[1., 1., 1., 1., 1.],\n",
       "          [1., 1., 1., 1., 1.],\n",
       "          [1., 1., 1., 1., 1.],\n",
       "          [1., 1., 1., 1., 1.]]]]])"
      ]
     },
     "execution_count": 36,
     "metadata": {},
     "output_type": "execute_result"
    }
   ],
   "source": [
    "d_ones"
   ]
  },
  {
   "cell_type": "code",
   "execution_count": 37,
   "id": "b984f163",
   "metadata": {},
   "outputs": [],
   "source": [
    "e=np.empty((3,3,3))"
   ]
  },
  {
   "cell_type": "code",
   "execution_count": 38,
   "id": "6095337b",
   "metadata": {},
   "outputs": [
    {
     "data": {
      "text/plain": [
       "array([[[1.21458722e-311, 1.21458727e-311, 0.00000000e+000],\n",
       "        [0.00000000e+000, 1.33511018e-306, 1.15998412e-028],\n",
       "        [4.31603868e-080, 1.94919985e-153, 1.35717430e+131]],\n",
       "\n",
       "       [[9.42210349e-096, 1.12947740e-095, 8.51685748e-096],\n",
       "        [1.03895280e-095, 7.71472562e+140, 6.01347002e-154],\n",
       "        [2.99938296e-067, 2.99939428e-067, 1.96567191e-062]],\n",
       "\n",
       "       [[1.96567933e-062, 1.28823247e-057, 1.06239598e-153],\n",
       "        [3.98472821e+252, 1.06244660e-153, 9.78750380e+199],\n",
       "        [6.97843734e+252, 9.11792863e-307, 3.49699467e-317]]])"
      ]
     },
     "execution_count": 38,
     "metadata": {},
     "output_type": "execute_result"
    }
   ],
   "source": [
    "e"
   ]
  },
  {
   "cell_type": "markdown",
   "id": "c652a3d4",
   "metadata": {},
   "source": [
    "## ranges"
   ]
  },
  {
   "cell_type": "code",
   "execution_count": null,
   "id": "c2f76637",
   "metadata": {},
   "outputs": [],
   "source": []
  }
 ],
 "metadata": {
  "kernelspec": {
   "display_name": "Python 3 (ipykernel)",
   "language": "python",
   "name": "python3"
  },
  "language_info": {
   "codemirror_mode": {
    "name": "ipython",
    "version": 3
   },
   "file_extension": ".py",
   "mimetype": "text/x-python",
   "name": "python",
   "nbconvert_exporter": "python",
   "pygments_lexer": "ipython3",
   "version": "3.9.13"
  }
 },
 "nbformat": 4,
 "nbformat_minor": 5
}
